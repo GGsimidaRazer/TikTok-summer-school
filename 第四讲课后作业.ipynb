{
  "nbformat": 4,
  "nbformat_minor": 0,
  "metadata": {
    "colab": {
      "name": "第四讲课后作业.ipynb",
      "provenance": [],
      "collapsed_sections": [],
      "toc_visible": true,
      "authorship_tag": "ABX9TyNisCUHJzLCDPJFCojQ/81L",
      "include_colab_link": true
    },
    "kernelspec": {
      "name": "python3",
      "display_name": "Python 3"
    },
    "language_info": {
      "name": "python"
    }
  },
  "cells": [
    {
      "cell_type": "markdown",
      "metadata": {
        "id": "view-in-github",
        "colab_type": "text"
      },
      "source": [
        "<a href=\"https://colab.research.google.com/github/GGsimidaRazer/TikTok-summer-school/blob/main/%E7%AC%AC%E5%9B%9B%E8%AE%B2%E8%AF%BE%E5%90%8E%E4%BD%9C%E4%B8%9A.ipynb\" target=\"_parent\"><img src=\"https://colab.research.google.com/assets/colab-badge.svg\" alt=\"Open In Colab\"/></a>"
      ]
    },
    {
      "cell_type": "code",
      "execution_count": null,
      "metadata": {
        "colab": {
          "base_uri": "https://localhost:8080/"
        },
        "id": "6bFpwAQF0uqA",
        "outputId": "5cbacf67-8fbf-4fb2-cd50-16c71474c3e5"
      },
      "outputs": [
        {
          "output_type": "stream",
          "name": "stdout",
          "text": [
            "Looking in indexes: https://pypi.org/simple, https://us-python.pkg.dev/colab-wheels/public/simple/\n",
            "Collecting dppy\n",
            "  Downloading dppy-0.3.2-py3-none-any.whl (83 kB)\n",
            "\u001b[K     |████████████████████████████████| 83 kB 1.9 MB/s \n",
            "\u001b[?25hRequirement already satisfied: numpy in /usr/local/lib/python3.7/dist-packages (from dppy) (1.21.6)\n",
            "Requirement already satisfied: matplotlib in /usr/local/lib/python3.7/dist-packages (from dppy) (3.2.2)\n",
            "Requirement already satisfied: scipy>=1.1.0 in /usr/local/lib/python3.7/dist-packages (from dppy) (1.4.1)\n",
            "Requirement already satisfied: kiwisolver>=1.0.1 in /usr/local/lib/python3.7/dist-packages (from matplotlib->dppy) (1.4.2)\n",
            "Requirement already satisfied: cycler>=0.10 in /usr/local/lib/python3.7/dist-packages (from matplotlib->dppy) (0.11.0)\n",
            "Requirement already satisfied: pyparsing!=2.0.4,!=2.1.2,!=2.1.6,>=2.0.1 in /usr/local/lib/python3.7/dist-packages (from matplotlib->dppy) (3.0.9)\n",
            "Requirement already satisfied: python-dateutil>=2.1 in /usr/local/lib/python3.7/dist-packages (from matplotlib->dppy) (2.8.2)\n",
            "Requirement already satisfied: typing-extensions in /usr/local/lib/python3.7/dist-packages (from kiwisolver>=1.0.1->matplotlib->dppy) (4.2.0)\n",
            "Requirement already satisfied: six>=1.5 in /usr/local/lib/python3.7/dist-packages (from python-dateutil>=2.1->matplotlib->dppy) (1.15.0)\n",
            "Installing collected packages: dppy\n",
            "Successfully installed dppy-0.3.2\n"
          ]
        }
      ],
      "source": [
        "!pip install dppy"
      ]
    },
    {
      "cell_type": "code",
      "execution_count": null,
      "metadata": {
        "id": "LWVMPrbt0ypn"
      },
      "outputs": [],
      "source": [
        "import numpy as np\n",
        "import matplotlib.pyplot as plt\n",
        "from numpy.random import rand, randn\n",
        "from scipy.special import softmax\n",
        "from scipy.linalg import norm\n",
        "from dppy.finite_dpps import FiniteDPP\n",
        "from dppy.utils import example_eval_L_linear\n",
        "\n",
        "%config InlineBackend.figure_format='retina'\n",
        "\n",
        "## 随机产生100个候选视频\n",
        "def produce_random_items():\n",
        "  embeddings=randn(100,512) #100条视频，512维embedding\n",
        "  embeddings=embeddings*(embeddings>0) #RELU\n",
        "  embeddings=embeddings/norm(embeddings,axis=1,keepdims=True)\n",
        "  weights=rand(100,512)\n",
        "  #embeddings=softmax(embeddings,axis=1)\n",
        "  scores=np.exp(np.sum(embeddings*weights,axis=1)) #模拟rank阶段的logistic回归\n",
        "  u=np.diag(scores)\n",
        "  L=embeddings.dot(embeddings.T)\n",
        "  L=u.dot(L)\n",
        "  L=L.dot(u)\n",
        "  return L\n",
        "\n",
        "\n"
      ]
    },
    {
      "cell_type": "markdown",
      "source": [
        "1. 随机产生100个候选视频，有对应的embedding和相关分s。产生8个DPP打散后的结果。"
      ],
      "metadata": {
        "id": "c4i46uTs1pbi"
      }
    },
    {
      "cell_type": "code",
      "source": [
        "DPP=FiniteDPP('likelihood',\n",
        "                **{'L': produce_random_items()})\n",
        "\n",
        "              #由于不清楚8个DPP打散后的结果指的是进行8次采样还是单个窗口大小为8的采样，因此都写上了\n",
        "DPP.flush_samples()\n",
        "for i in range(8):\n",
        "  DPP.sample_exact()             \n",
        "print(DPP.list_of_samples)     #此处为8组DPP采样结果\n",
        "\n",
        "DPP.flush_samples()\n",
        "DPP.sample_exact_k_dpp(size=8) \n",
        "print(DPP.list_of_samples)    #此处为窗口大小为8的采样结果\n"
      ],
      "metadata": {
        "colab": {
          "base_uri": "https://localhost:8080/"
        },
        "id": "My2KkRjm19Df",
        "outputId": "f9f1f707-9897-4a2e-c9e9-2aee919f18ab"
      },
      "execution_count": null,
      "outputs": [
        {
          "output_type": "stream",
          "name": "stdout",
          "text": [
            "[[92, 1, 33, 48, 41, 42, 71, 24, 37, 94, 79, 43, 58, 53, 23, 55, 51, 76, 65, 26, 78, 29, 36, 32, 27, 84, 35, 93, 46, 5, 82, 63, 74, 87, 4, 28, 56, 19, 57, 50, 10, 98, 49, 66, 45, 0, 91, 90, 17, 68, 18, 8, 6, 2, 86, 30, 25, 70, 34, 61, 99, 52, 83, 54, 11, 38, 73, 59, 96, 85, 13, 60, 88, 40, 72, 15, 64, 9, 81, 16, 95, 14, 69, 20, 12, 7, 21, 75, 47, 67, 80, 44, 89, 39, 31, 22, 62, 97, 3, 77], [79, 76, 57, 29, 68, 30, 12, 67, 18, 15, 33, 8, 69, 38, 49, 82, 9, 3, 42, 88, 7, 44, 5, 21, 16, 0, 36, 86, 90, 77, 58, 55, 73, 75, 60, 94, 87, 51, 48, 95, 72, 80, 96, 11, 70, 92, 4, 53, 6, 17, 78, 40, 28, 56, 63, 83, 23, 91, 84, 19, 27, 24, 34, 89, 39, 46, 35, 62, 59, 74, 65, 1, 98, 64, 97, 52, 50, 20, 85, 31, 81, 66, 43, 41, 25, 71, 93, 99, 26, 61, 37, 45, 47, 13, 54, 22, 14, 2, 32, 10], [66, 94, 23, 87, 44, 16, 49, 85, 19, 36, 1, 65, 62, 57, 14, 78, 52, 55, 31, 45, 3, 47, 13, 41, 73, 68, 60, 86, 5, 28, 42, 81, 34, 75, 38, 69, 48, 92, 59, 46, 53, 2, 80, 25, 40, 64, 71, 11, 89, 56, 90, 35, 72, 18, 12, 37, 22, 77, 20, 39, 21, 83, 26, 30, 76, 43, 93, 95, 17, 97, 70, 79, 61, 32, 15, 63, 96, 4, 24, 67, 74, 6, 27, 8, 82, 7, 58, 10, 9, 0, 91, 50, 88, 51, 98, 84, 99, 33, 54, 29], [29, 82, 26, 92, 66, 68, 70, 54, 34, 43, 16, 73, 99, 51, 28, 14, 56, 45, 23, 24, 98, 15, 72, 71, 76, 13, 21, 32, 42, 84, 85, 58, 20, 81, 17, 44, 47, 53, 25, 19, 35, 27, 3, 60, 95, 33, 93, 50, 40, 8, 83, 96, 77, 18, 87, 55, 1, 41, 61, 91, 57, 69, 80, 9, 11, 12, 48, 86, 65, 2, 90, 6, 49, 46, 64, 88, 37, 0, 67, 36, 30, 59, 10, 5, 94, 89, 31, 39, 62, 38, 75, 78, 74, 7, 97, 63, 79, 22, 52, 4], [10, 67, 65, 33, 27, 66, 79, 84, 94, 58, 85, 63, 22, 74, 12, 87, 52, 88, 28, 25, 4, 30, 60, 76, 54, 45, 32, 80, 49, 2, 8, 40, 35, 46, 61, 69, 6, 29, 36, 95, 9, 59, 89, 57, 81, 68, 75, 71, 90, 41, 44, 72, 82, 98, 16, 13, 38, 39, 11, 24, 99, 55, 19, 93, 62, 73, 96, 64, 42, 23, 53, 78, 0, 7, 1, 47, 3, 50, 86, 83, 91, 18, 43, 77, 97, 34, 31, 37, 20, 70, 14, 5, 56, 48, 51, 15, 21, 26, 92, 17], [28, 84, 96, 34, 50, 53, 43, 70, 93, 68, 80, 97, 11, 54, 72, 83, 56, 33, 65, 45, 22, 87, 17, 38, 41, 8, 88, 48, 90, 74, 57, 18, 58, 94, 40, 24, 5, 62, 25, 13, 78, 19, 47, 29, 99, 46, 23, 31, 75, 7, 89, 92, 39, 82, 86, 77, 44, 21, 3, 15, 37, 63, 81, 79, 35, 26, 59, 60, 91, 73, 36, 1, 32, 42, 14, 85, 16, 4, 64, 27, 51, 95, 55, 12, 30, 69, 71, 98, 9, 6, 10, 49, 2, 52, 66, 61, 76, 67, 20, 0], [65, 37, 79, 36, 14, 84, 16, 68, 75, 34, 91, 71, 23, 69, 73, 80, 29, 30, 66, 53, 96, 27, 64, 48, 8, 86, 22, 6, 50, 78, 97, 95, 25, 21, 57, 87, 63, 61, 58, 59, 81, 18, 94, 45, 56, 15, 72, 60, 55, 24, 9, 42, 67, 4, 31, 5, 52, 51, 0, 40, 12, 92, 19, 1, 44, 41, 54, 17, 28, 89, 90, 20, 11, 76, 46, 82, 3, 62, 77, 83, 47, 7, 99, 98, 74, 26, 93, 10, 70, 13, 49, 33, 32, 39, 88, 35, 43, 2, 38, 85], [39, 86, 93, 30, 92, 36, 67, 81, 77, 46, 0, 29, 35, 76, 7, 98, 78, 96, 99, 45, 62, 6, 58, 60, 74, 38, 8, 80, 83, 73, 95, 28, 79, 21, 31, 51, 90, 50, 34, 65, 85, 44, 11, 57, 82, 16, 32, 1, 23, 14, 97, 10, 41, 61, 71, 56, 43, 42, 88, 3, 64, 12, 2, 63, 70, 5, 17, 33, 66, 54, 59, 47, 15, 75, 25, 55, 68, 27, 40, 24, 9, 18, 84, 52, 22, 94, 13, 87, 72, 19, 37, 20, 53, 69, 4, 49, 89, 48, 91, 26]]\n",
            "[[77, 99, 0, 86, 41, 9, 40, 34]]\n"
          ]
        }
      ]
    },
    {
      "cell_type": "markdown",
      "source": [
        "2. 实现DPP greedy search算法"
      ],
      "metadata": {
        "id": "Y88U4P525ehw"
      }
    },
    {
      "cell_type": "code",
      "source": [
        "class DPP_GreedySearch:\n",
        "  def __init__(self,L):\n",
        "    self.L=L\n",
        "    self.c=np.zeros_like(L)\n",
        "    self.d_square=np.copy(np.diagonal(L))\n",
        "    self.j=np.argmax(self.d_square)\n",
        "    self.item_count=L.shape[0]\n",
        "    self.Yg=[self.j]\n",
        "  def run(self,k=None):\n",
        "    if not k:\n",
        "      k = self.item_count\n",
        "    Z=set(list(np.arange(0,self.item_count)))\n",
        "    for count in range(k-1):  \n",
        "      Z_d=Z.difference(set(self.Yg))\n",
        "      for i in Z_d:                  #对ci和di进行更新\n",
        "        e=(self.L[self.j,i]-np.dot(self.c[:count,i],self.c[:count,self.j].T)) / np.sqrt(self.d_square[self.j])\n",
        "        self.c[count,i]=e\n",
        "        self.d_square[i]=self.d_square[i] - e*e\n",
        "      self.d_square[self.j] = 0\n",
        "\n",
        "      self.j=np.argmax(self.d_square)           #选中下一个结果\n",
        "      self.Yg.append(self.j)\n",
        "      \n",
        "    return self.Yg\n",
        "dpp=DPP_GreedySearch(produce_random_items())\n",
        "result=dpp.run(20)\n",
        "print(result)\n",
        "\n",
        "\n",
        "\n"
      ],
      "metadata": {
        "id": "VrZmIZ__5diu",
        "colab": {
          "base_uri": "https://localhost:8080/"
        },
        "outputId": "6fd5a9f3-f868-42fd-ab94-78f61f8b3e50"
      },
      "execution_count": null,
      "outputs": [
        {
          "output_type": "stream",
          "name": "stdout",
          "text": [
            "[8, 19, 18, 12, 15, 66, 27, 37, 81, 11, 43, 28, 94, 58, 52, 82, 65, 13, 32, 33]\n"
          ]
        }
      ]
    },
    {
      "cell_type": "markdown",
      "source": [
        "3. 实现DPP beam search 算法"
      ],
      "metadata": {
        "id": "fTsOHFKV7RDv"
      }
    },
    {
      "cell_type": "code",
      "source": [
        "import copy\n",
        "\n",
        "class DPP_BeamSearch:\n",
        "  def __init__(self,L,beam_size):\n",
        "    self.bsize=beam_size\n",
        "    self.L=L\n",
        "    self.c=np.copy(np.tile(np.zeros_like(L),(beam_size,1,1)))\n",
        "    \n",
        "    self.Yg=[[] for _ in range(beam_size)]\n",
        "    \n",
        "    self.j=np.zeros(beam_size,dtype=int) #beam个j\n",
        "    self.d_square=np.copy(np.tile(np.copy(np.diagonal(L)),(beam_size,1)))\n",
        "    \n",
        "    d_square=np.copy(np.diagonal(L))\n",
        "    \n",
        "    for i in range(beam_size):\n",
        "      j=np.argmax(d_square)\n",
        "      self.Yg[i].append(j)\n",
        "      self.j[i]=j\n",
        "      d_square[j]=0\n",
        "\n",
        "    \n",
        "    self.item_count=L.shape[0]\n",
        "  def run(self,k=None):\n",
        "    if not k:\n",
        "      k = self.item_count\n",
        "    Z=set(list(np.arange(0,self.item_count)))\n",
        "    \n",
        "    for count in range(k-1):\n",
        "      \n",
        "      j_score=np.zeros((self.bsize,self.bsize))\n",
        "      j_pos=np.zeros((self.bsize,self.bsize),dtype=int)\n",
        "      for b in range(self.bsize):   #分别对beam_size个概率图进行更新\n",
        "        Z_d=Z.difference(set(self.Yg[b]))\n",
        "        \n",
        "        for i in Z_d:\n",
        "          \n",
        "          e=(self.L[self.j[b],i]-np.dot(self.c[b,:count,i],self.c[b,:count,self.j[b]].T)) / np.sqrt(self.d_square[b,self.j[b]])\n",
        "          self.c[b,count,i]=e\n",
        "          self.d_square[b,i]=self.d_square[b,i] - e*e\n",
        "        self.d_square[b,self.j[b]]=0\n",
        "      \n",
        "        d_square=np.copy(self.d_square[b])\n",
        "        \n",
        "        for b1 in range(self.bsize):  #每个更新后的概率图再取beam_size个结果作为备选\n",
        "          j_score[b,b1]=np.max(d_square)\n",
        "          \n",
        "          j_pos[b,b1]=np.argmax(d_square)\n",
        "          d_square[j_pos[b,b1]]=0\n",
        "      \n",
        "\n",
        "      pos=np.zeros((self.bsize,2),dtype=int)\n",
        "      d_square_copy=np.zeros_like(self.d_square)\n",
        "      Yg_copy=[[] for _ in range(self.bsize)]\n",
        "      c_copy=np.zeros_like(self.c)\n",
        "      for b in range(self.bsize):   #确定最终的beam_size个结果\n",
        "        pos[b]=np.argwhere(j_score==np.max(j_score))[0]\n",
        "        \n",
        "        j_score[pos[b,0],pos[b,1]]=0\n",
        "        d_square_copy[b]=np.copy(self.d_square[pos[b,0]])\n",
        "        c_copy[b]=np.copy(self.c[pos[b,0]])\n",
        "        \n",
        "        Yg_copy[b]=copy.deepcopy(self.Yg[pos[b,0]])\n",
        "        self.j[b]=j_pos[pos[b,0],pos[b,1]] \n",
        "        Yg_copy[b].append(self.j[b])\n",
        "      self.d_square=np.copy(d_square_copy) #依次将di ci yg更新为选中的结果\n",
        "      self.c=np.copy(c_copy)\n",
        "\n",
        "      self.Yg=copy.deepcopy(Yg_copy)\n",
        "      \n",
        "      \n",
        "    return self.Yg[0]           #由于最先取出的是条件概率最大的，因此返回第一个结果\n",
        "test=DPP_BeamSearch(produce_random_items(),5)\n",
        "result=test.run()\n",
        "print(result)\n",
        "\n"
      ],
      "metadata": {
        "colab": {
          "base_uri": "https://localhost:8080/"
        },
        "id": "UzAWhH0C7YAA",
        "outputId": "189a713c-8041-4176-a517-01cb08d02004"
      },
      "execution_count": null,
      "outputs": [
        {
          "output_type": "stream",
          "name": "stdout",
          "text": [
            "[15, 3, 50, 59, 96, 19, 2, 38, 28, 58, 80, 40, 79, 73, 61, 37, 27, 44, 4, 69, 33, 93, 46, 74, 63, 32, 34, 81, 85, 64, 0, 66, 92, 47, 41, 17, 65, 5, 56, 22, 7, 90, 51, 30, 54, 78, 76, 12, 29, 83, 84, 72, 68, 89, 95, 18, 75, 87, 8, 97, 71, 14, 86, 49, 77, 10, 36, 9, 53, 24, 23, 42, 52, 55, 67, 39, 62, 70, 82, 16, 35, 26, 21, 57, 6, 31, 91, 94, 45, 98, 25, 48, 20, 11, 88, 1, 60, 13, 99, 43]\n"
          ]
        }
      ]
    },
    {
      "cell_type": "markdown",
      "source": [
        "4. 重复1w次模拟实验比较不同beam size下beam search算法和greedy算法的异同（统计计算复杂度，准确度）"
      ],
      "metadata": {
        "id": "YNhuZIR9HPXC"
      }
    },
    {
      "cell_type": "code",
      "source": [
        "from google.colab import files\n",
        "import time\n",
        "import pandas as pd\n",
        "\n",
        "class Comparison:\n",
        "  def __init__(self,beam_range):\n",
        "    self.L=produce_random_items()\n",
        "    self.brange=beam_range\n",
        "    self.dpp_g=DPP_GreedySearch(self.L)\n",
        "    for i in range(beam_range):\n",
        "      setattr(self,'dpp_b_%d'%(i+1),DPP_BeamSearch(self.L,(i+1)))\n",
        "  def run(self,k=None):\n",
        "    stat={}\n",
        "    start_time=time.time()\n",
        "    r=self.dpp_g.run(k)\n",
        "    end_time=time.time()\n",
        "    stat['GreedySearch_time']=end_time-start_time\n",
        "    stat['GreedySearch_result']=r\n",
        "    for i in range(self.brange):\n",
        "      start_time=time.time()\n",
        "      r=getattr(self,'dpp_b_%d'%(i+1)).run(k)\n",
        "      end_time=time.time()\n",
        "      stat['BeamSearch_size{}_result'.format(i+1)]=r\n",
        "      stat['BeamSearch_size{}_time'.format(i+1)]=end_time-start_time\n",
        "    return stat\n",
        "beamrange=10\n",
        "\n",
        "names=['BeamSearch_size{}'.format(i+1) for i in range(beamrange)].append('GreedySearch')\n",
        "names=pd.Series(names,dtype=str)\n",
        "all_times=pd.DataFrame(index=names)\n",
        "all_results=pd.DataFrame(index=names)\n",
        "repeat=100\n",
        "for j in range(repeat):\n",
        "  times=pd.Series(dtype=float,index=names)\n",
        "  results=pd.Series(index=names)\n",
        "  com=Comparison(10)\n",
        "  result=com.run(20)\n",
        "  times['GreedySearch']=result['GreedySearch_time']\n",
        "  results['GreedySearch']=result['GreedySearch_result']\n",
        "  for i in range(beamrange):\n",
        "    times['BeamSearch_size{}'.format(i+1)]=result['BeamSearch_size{}_time'.format(i+1)]\n",
        "    results['BeamSearch_size{}'.format(i+1)]=result['BeamSearch_size{}_result'.format(i+1)]\n",
        "  all_times.insert(loc=0,column=(repeat-j),value=times)\n",
        "  all_results.insert(loc=0,column=(repeat-j),value=results)\n",
        "all_times.to_csv('times.csv')\n",
        "all_results.to_csv('results.csv')\n",
        "files.download('times.csv')\n",
        "files.download('results.csv')\n",
        "\n",
        "\n",
        "\n",
        "\n"
      ],
      "metadata": {
        "id": "vs3ztqQlHd6C",
        "colab": {
          "base_uri": "https://localhost:8080/",
          "height": 1000
        },
        "outputId": "b49eed0b-e54c-480a-b311-78f603127a96"
      },
      "execution_count": 69,
      "outputs": [
        {
          "output_type": "stream",
          "name": "stderr",
          "text": [
            "/usr/local/lib/python3.7/dist-packages/ipykernel_launcher.py:35: DeprecationWarning: The default dtype for empty Series will be 'object' instead of 'float64' in a future version. Specify a dtype explicitly to silence this warning.\n"
          ]
        },
        {
          "output_type": "stream",
          "name": "stdout",
          "text": [
            "                        1         2         3         4         5         6    \\\n",
            "GreedySearch       0.015280  0.015466  0.015030  0.015101  0.015066  0.015475   \n",
            "BeamSearch_size1   0.020945  0.021972  0.021343  0.021307  0.021504  0.021122   \n",
            "BeamSearch_size2   0.045074  0.042477  0.042403  0.042261  0.042253  0.042033   \n",
            "BeamSearch_size3   0.052833  0.053650  0.053661  0.054863  0.055562  0.056488   \n",
            "BeamSearch_size4   0.052202  0.051591  0.052300  0.063346  0.054531  0.051438   \n",
            "BeamSearch_size5   0.065033  0.077644  0.123310  0.065747  0.064680  0.066186   \n",
            "BeamSearch_size6   0.091436  0.080211  0.384954  0.081158  0.079531  0.080480   \n",
            "BeamSearch_size7   0.108909  0.097494  0.168899  0.095893  0.094903  0.092584   \n",
            "BeamSearch_size8   0.108810  0.110523  0.125091  0.466672  0.112333  0.108878   \n",
            "BeamSearch_size9   0.125771  0.131629  0.123783  0.199090  0.127815  0.125452   \n",
            "BeamSearch_size10  0.145570  0.143834  0.139798  0.148099  0.599842  0.145920   \n",
            "\n",
            "                        7         8         9         10   ...       91   \\\n",
            "GreedySearch       0.015358  0.015615  0.015067  0.014997  ...  0.015112   \n",
            "BeamSearch_size1   0.021304  0.021724  0.023037  0.021012  ...  0.021447   \n",
            "BeamSearch_size2   0.043164  0.044422  0.041942  0.053310  ...  0.042500   \n",
            "BeamSearch_size3   0.056142  0.052466  0.055238  0.049906  ...  0.053603   \n",
            "BeamSearch_size4   0.053091  0.052570  0.052269  0.057225  ...  0.051216   \n",
            "BeamSearch_size5   0.066576  0.065413  0.075308  0.064321  ...  0.067915   \n",
            "BeamSearch_size6   0.080698  0.079388  0.083127  0.079480  ...  0.077993   \n",
            "BeamSearch_size7   0.095173  0.102075  0.099669  0.095299  ...  0.091952   \n",
            "BeamSearch_size8   0.109408  0.108650  0.119035  0.117591  ...  0.118350   \n",
            "BeamSearch_size9   0.134049  0.124863  0.128692  0.133999  ...  0.124722   \n",
            "BeamSearch_size10  0.140203  0.139161  0.150605  0.142862  ...  0.141008   \n",
            "\n",
            "                        92        93        94        95        96        97   \\\n",
            "GreedySearch       0.015016  0.014922  0.015316  0.014982  0.022550  0.015032   \n",
            "BeamSearch_size1   0.021723  0.021449  0.022545  0.020838  0.022186  0.020844   \n",
            "BeamSearch_size2   0.041958  0.042312  0.041909  0.042948  0.042171  0.042597   \n",
            "BeamSearch_size3   0.053859  0.053818  0.054463  0.054251  0.052041  0.064554   \n",
            "BeamSearch_size4   0.055463  0.053458  0.051351  0.065368  0.053545  0.062394   \n",
            "BeamSearch_size5   0.067218  0.066473  0.065554  0.068903  0.070143  0.069442   \n",
            "BeamSearch_size6   0.084828  0.078902  0.106410  0.097375  0.082087  0.080427   \n",
            "BeamSearch_size7   0.093969  0.105855  0.093441  0.105681  0.095979  0.093142   \n",
            "BeamSearch_size8   0.117478  0.122077  0.109016  0.110656  0.131423  0.107680   \n",
            "BeamSearch_size9   0.149643  0.127011  0.123663  0.126561  0.120804  0.124365   \n",
            "BeamSearch_size10  0.146147  0.141887  0.142123  0.137637  0.143225  0.145015   \n",
            "\n",
            "                        98        99        100  \n",
            "GreedySearch       0.014966  0.015177  0.024595  \n",
            "BeamSearch_size1   0.021887  0.021530  0.026035  \n",
            "BeamSearch_size2   0.042856  0.042418  0.057422  \n",
            "BeamSearch_size3   0.053459  0.053776  0.047608  \n",
            "BeamSearch_size4   0.051828  0.054549  0.057987  \n",
            "BeamSearch_size5   0.065718  0.066218  0.063381  \n",
            "BeamSearch_size6   0.077823  0.087991  0.079824  \n",
            "BeamSearch_size7   0.098458  0.098713  0.117298  \n",
            "BeamSearch_size8   0.109268  0.119269  0.109331  \n",
            "BeamSearch_size9   0.131746  0.122145  0.158346  \n",
            "BeamSearch_size10  0.161108  0.146322  0.158000  \n",
            "\n",
            "[11 rows x 100 columns]\n"
          ]
        },
        {
          "output_type": "display_data",
          "data": {
            "text/plain": [
              "<IPython.core.display.Javascript object>"
            ],
            "application/javascript": [
              "\n",
              "    async function download(id, filename, size) {\n",
              "      if (!google.colab.kernel.accessAllowed) {\n",
              "        return;\n",
              "      }\n",
              "      const div = document.createElement('div');\n",
              "      const label = document.createElement('label');\n",
              "      label.textContent = `Downloading \"${filename}\": `;\n",
              "      div.appendChild(label);\n",
              "      const progress = document.createElement('progress');\n",
              "      progress.max = size;\n",
              "      div.appendChild(progress);\n",
              "      document.body.appendChild(div);\n",
              "\n",
              "      const buffers = [];\n",
              "      let downloaded = 0;\n",
              "\n",
              "      const channel = await google.colab.kernel.comms.open(id);\n",
              "      // Send a message to notify the kernel that we're ready.\n",
              "      channel.send({})\n",
              "\n",
              "      for await (const message of channel.messages) {\n",
              "        // Send a message to notify the kernel that we're ready.\n",
              "        channel.send({})\n",
              "        if (message.buffers) {\n",
              "          for (const buffer of message.buffers) {\n",
              "            buffers.push(buffer);\n",
              "            downloaded += buffer.byteLength;\n",
              "            progress.value = downloaded;\n",
              "          }\n",
              "        }\n",
              "      }\n",
              "      const blob = new Blob(buffers, {type: 'application/binary'});\n",
              "      const a = document.createElement('a');\n",
              "      a.href = window.URL.createObjectURL(blob);\n",
              "      a.download = filename;\n",
              "      div.appendChild(a);\n",
              "      a.click();\n",
              "      div.remove();\n",
              "    }\n",
              "  "
            ]
          },
          "metadata": {}
        },
        {
          "output_type": "display_data",
          "data": {
            "text/plain": [
              "<IPython.core.display.Javascript object>"
            ],
            "application/javascript": [
              "download(\"download_3b467b3c-c911-4eae-a272-04f29b41cc26\", \"times.csv\", 22529)"
            ]
          },
          "metadata": {}
        },
        {
          "output_type": "display_data",
          "data": {
            "text/plain": [
              "<IPython.core.display.Javascript object>"
            ],
            "application/javascript": [
              "\n",
              "    async function download(id, filename, size) {\n",
              "      if (!google.colab.kernel.accessAllowed) {\n",
              "        return;\n",
              "      }\n",
              "      const div = document.createElement('div');\n",
              "      const label = document.createElement('label');\n",
              "      label.textContent = `Downloading \"${filename}\": `;\n",
              "      div.appendChild(label);\n",
              "      const progress = document.createElement('progress');\n",
              "      progress.max = size;\n",
              "      div.appendChild(progress);\n",
              "      document.body.appendChild(div);\n",
              "\n",
              "      const buffers = [];\n",
              "      let downloaded = 0;\n",
              "\n",
              "      const channel = await google.colab.kernel.comms.open(id);\n",
              "      // Send a message to notify the kernel that we're ready.\n",
              "      channel.send({})\n",
              "\n",
              "      for await (const message of channel.messages) {\n",
              "        // Send a message to notify the kernel that we're ready.\n",
              "        channel.send({})\n",
              "        if (message.buffers) {\n",
              "          for (const buffer of message.buffers) {\n",
              "            buffers.push(buffer);\n",
              "            downloaded += buffer.byteLength;\n",
              "            progress.value = downloaded;\n",
              "          }\n",
              "        }\n",
              "      }\n",
              "      const blob = new Blob(buffers, {type: 'application/binary'});\n",
              "      const a = document.createElement('a');\n",
              "      a.href = window.URL.createObjectURL(blob);\n",
              "      a.download = filename;\n",
              "      div.appendChild(a);\n",
              "      a.click();\n",
              "      div.remove();\n",
              "    }\n",
              "  "
            ]
          },
          "metadata": {}
        },
        {
          "output_type": "display_data",
          "data": {
            "text/plain": [
              "<IPython.core.display.Javascript object>"
            ],
            "application/javascript": [
              "download(\"download_80864120-8d69-4eb2-bf43-5a0ec3c97e61\", \"results.csv\", 89412)"
            ]
          },
          "metadata": {}
        }
      ]
    }
  ]
}